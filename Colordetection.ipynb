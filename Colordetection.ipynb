{
 "cells": [
  {
   "cell_type": "code",
   "execution_count": 1,
   "metadata": {},
   "outputs": [],
   "source": [
    "import cv2\n",
    "import numpy as np \n",
    "import pandas as pd\n",
    "\n",
    "img_path='./colorpic.jpg'\n",
    "img=cv2.imread(img_path)"
   ]
  },
  {
   "cell_type": "code",
   "execution_count": 2,
   "metadata": {},
   "outputs": [],
   "source": [
    "#Declaring global variables\n",
    "clicked=False\n",
    "r=g=b=xpos=ypos=0"
   ]
  },
  {
   "cell_type": "code",
   "execution_count": 3,
   "metadata": {},
   "outputs": [
    {
     "output_type": "execute_result",
     "data": {
      "text/plain": "       air_force_blue_raf   Air Force Blue (Raf)  #5d8aa8   93  138  168\n0     air_force_blue_usaf  Air Force Blue (Usaf)  #00308f    0   48  143\n1    air_superiority_blue   Air Superiority Blue  #72a0c1  114  160  193\n2         alabama_crimson        Alabama Crimson  #a32638  163   38   56\n3              alice_blue             Alice Blue  #f0f8ff  240  248  255\n4        alizarin_crimson       Alizarin Crimson  #e32636  227   38   54\n..                    ...                    ...      ...  ...  ...  ...\n859         yellow_orange          Yellow Orange  #ffae42  255  174   66\n860        yellow_process       Yellow (Process)  #ffef00  255  239    0\n861            yellow_ryb           Yellow (Ryb)  #fefe33  254  254   51\n862                zaffre                 Zaffre  #0014a8    0   20  168\n863     zinnwaldite_brown      Zinnwaldite Brown  #2c1608   44   22    8\n\n[864 rows x 6 columns]",
      "text/html": "<div>\n<style scoped>\n    .dataframe tbody tr th:only-of-type {\n        vertical-align: middle;\n    }\n\n    .dataframe tbody tr th {\n        vertical-align: top;\n    }\n\n    .dataframe thead th {\n        text-align: right;\n    }\n</style>\n<table border=\"1\" class=\"dataframe\">\n  <thead>\n    <tr style=\"text-align: right;\">\n      <th></th>\n      <th>air_force_blue_raf</th>\n      <th>Air Force Blue (Raf)</th>\n      <th>#5d8aa8</th>\n      <th>93</th>\n      <th>138</th>\n      <th>168</th>\n    </tr>\n  </thead>\n  <tbody>\n    <tr>\n      <th>0</th>\n      <td>air_force_blue_usaf</td>\n      <td>Air Force Blue (Usaf)</td>\n      <td>#00308f</td>\n      <td>0</td>\n      <td>48</td>\n      <td>143</td>\n    </tr>\n    <tr>\n      <th>1</th>\n      <td>air_superiority_blue</td>\n      <td>Air Superiority Blue</td>\n      <td>#72a0c1</td>\n      <td>114</td>\n      <td>160</td>\n      <td>193</td>\n    </tr>\n    <tr>\n      <th>2</th>\n      <td>alabama_crimson</td>\n      <td>Alabama Crimson</td>\n      <td>#a32638</td>\n      <td>163</td>\n      <td>38</td>\n      <td>56</td>\n    </tr>\n    <tr>\n      <th>3</th>\n      <td>alice_blue</td>\n      <td>Alice Blue</td>\n      <td>#f0f8ff</td>\n      <td>240</td>\n      <td>248</td>\n      <td>255</td>\n    </tr>\n    <tr>\n      <th>4</th>\n      <td>alizarin_crimson</td>\n      <td>Alizarin Crimson</td>\n      <td>#e32636</td>\n      <td>227</td>\n      <td>38</td>\n      <td>54</td>\n    </tr>\n    <tr>\n      <th>...</th>\n      <td>...</td>\n      <td>...</td>\n      <td>...</td>\n      <td>...</td>\n      <td>...</td>\n      <td>...</td>\n    </tr>\n    <tr>\n      <th>859</th>\n      <td>yellow_orange</td>\n      <td>Yellow Orange</td>\n      <td>#ffae42</td>\n      <td>255</td>\n      <td>174</td>\n      <td>66</td>\n    </tr>\n    <tr>\n      <th>860</th>\n      <td>yellow_process</td>\n      <td>Yellow (Process)</td>\n      <td>#ffef00</td>\n      <td>255</td>\n      <td>239</td>\n      <td>0</td>\n    </tr>\n    <tr>\n      <th>861</th>\n      <td>yellow_ryb</td>\n      <td>Yellow (Ryb)</td>\n      <td>#fefe33</td>\n      <td>254</td>\n      <td>254</td>\n      <td>51</td>\n    </tr>\n    <tr>\n      <th>862</th>\n      <td>zaffre</td>\n      <td>Zaffre</td>\n      <td>#0014a8</td>\n      <td>0</td>\n      <td>20</td>\n      <td>168</td>\n    </tr>\n    <tr>\n      <th>863</th>\n      <td>zinnwaldite_brown</td>\n      <td>Zinnwaldite Brown</td>\n      <td>#2c1608</td>\n      <td>44</td>\n      <td>22</td>\n      <td>8</td>\n    </tr>\n  </tbody>\n</table>\n<p>864 rows × 6 columns</p>\n</div>"
     },
     "metadata": {},
     "execution_count": 3
    }
   ],
   "source": [
    "#Read csv file with pandas \n",
    "csv=pd.read_csv('colors.csv')\n",
    "csv"
   ]
  },
  {
   "cell_type": "code",
   "execution_count": 4,
   "metadata": {},
   "outputs": [
    {
     "output_type": "execute_result",
     "data": {
      "text/plain": "                    color             color_name      hex    R    G    B\n0      air_force_blue_raf   Air Force Blue (Raf)  #5d8aa8   93  138  168\n1     air_force_blue_usaf  Air Force Blue (Usaf)  #00308f    0   48  143\n2    air_superiority_blue   Air Superiority Blue  #72a0c1  114  160  193\n3         alabama_crimson        Alabama Crimson  #a32638  163   38   56\n4              alice_blue             Alice Blue  #f0f8ff  240  248  255\n..                    ...                    ...      ...  ...  ...  ...\n860         yellow_orange          Yellow Orange  #ffae42  255  174   66\n861        yellow_process       Yellow (Process)  #ffef00  255  239    0\n862            yellow_ryb           Yellow (Ryb)  #fefe33  254  254   51\n863                zaffre                 Zaffre  #0014a8    0   20  168\n864     zinnwaldite_brown      Zinnwaldite Brown  #2c1608   44   22    8\n\n[865 rows x 6 columns]",
      "text/html": "<div>\n<style scoped>\n    .dataframe tbody tr th:only-of-type {\n        vertical-align: middle;\n    }\n\n    .dataframe tbody tr th {\n        vertical-align: top;\n    }\n\n    .dataframe thead th {\n        text-align: right;\n    }\n</style>\n<table border=\"1\" class=\"dataframe\">\n  <thead>\n    <tr style=\"text-align: right;\">\n      <th></th>\n      <th>color</th>\n      <th>color_name</th>\n      <th>hex</th>\n      <th>R</th>\n      <th>G</th>\n      <th>B</th>\n    </tr>\n  </thead>\n  <tbody>\n    <tr>\n      <th>0</th>\n      <td>air_force_blue_raf</td>\n      <td>Air Force Blue (Raf)</td>\n      <td>#5d8aa8</td>\n      <td>93</td>\n      <td>138</td>\n      <td>168</td>\n    </tr>\n    <tr>\n      <th>1</th>\n      <td>air_force_blue_usaf</td>\n      <td>Air Force Blue (Usaf)</td>\n      <td>#00308f</td>\n      <td>0</td>\n      <td>48</td>\n      <td>143</td>\n    </tr>\n    <tr>\n      <th>2</th>\n      <td>air_superiority_blue</td>\n      <td>Air Superiority Blue</td>\n      <td>#72a0c1</td>\n      <td>114</td>\n      <td>160</td>\n      <td>193</td>\n    </tr>\n    <tr>\n      <th>3</th>\n      <td>alabama_crimson</td>\n      <td>Alabama Crimson</td>\n      <td>#a32638</td>\n      <td>163</td>\n      <td>38</td>\n      <td>56</td>\n    </tr>\n    <tr>\n      <th>4</th>\n      <td>alice_blue</td>\n      <td>Alice Blue</td>\n      <td>#f0f8ff</td>\n      <td>240</td>\n      <td>248</td>\n      <td>255</td>\n    </tr>\n    <tr>\n      <th>...</th>\n      <td>...</td>\n      <td>...</td>\n      <td>...</td>\n      <td>...</td>\n      <td>...</td>\n      <td>...</td>\n    </tr>\n    <tr>\n      <th>860</th>\n      <td>yellow_orange</td>\n      <td>Yellow Orange</td>\n      <td>#ffae42</td>\n      <td>255</td>\n      <td>174</td>\n      <td>66</td>\n    </tr>\n    <tr>\n      <th>861</th>\n      <td>yellow_process</td>\n      <td>Yellow (Process)</td>\n      <td>#ffef00</td>\n      <td>255</td>\n      <td>239</td>\n      <td>0</td>\n    </tr>\n    <tr>\n      <th>862</th>\n      <td>yellow_ryb</td>\n      <td>Yellow (Ryb)</td>\n      <td>#fefe33</td>\n      <td>254</td>\n      <td>254</td>\n      <td>51</td>\n    </tr>\n    <tr>\n      <th>863</th>\n      <td>zaffre</td>\n      <td>Zaffre</td>\n      <td>#0014a8</td>\n      <td>0</td>\n      <td>20</td>\n      <td>168</td>\n    </tr>\n    <tr>\n      <th>864</th>\n      <td>zinnwaldite_brown</td>\n      <td>Zinnwaldite Brown</td>\n      <td>#2c1608</td>\n      <td>44</td>\n      <td>22</td>\n      <td>8</td>\n    </tr>\n  </tbody>\n</table>\n<p>865 rows × 6 columns</p>\n</div>"
     },
     "metadata": {},
     "execution_count": 4
    }
   ],
   "source": [
    "#Giving names to each column\n",
    "index=['color','color_name','hex','R','G','B']\n",
    "csv=pd.read_csv('colors.csv',names=index,header=None)\n",
    "csv"
   ]
  },
  {
   "cell_type": "code",
   "execution_count": 5,
   "metadata": {},
   "outputs": [],
   "source": [
    "#Create a window in which the input image will display\n",
    "cv2.namedWindow('img')"
   ]
  },
  {
   "cell_type": "code",
   "execution_count": 6,
   "metadata": {},
   "outputs": [],
   "source": [
    "#Create the draw_function\n",
    "def draw_function(event,x,y,flags,param):\n",
    "##event name, (x,y)coordinates of the mouse position\n",
    "    if event==cv2.EVENT_LBUTTONDBLCLK:\n",
    "    ##if the event is double-clicked then calculate and set the r,g,b values along with x,y positions of the mouse\n",
    "        global b,g,r,xpos,ypos,clicked\n",
    "        clicked=True\n",
    "        xpos=x\n",
    "        ypos=y\n",
    "        b,g,r=img[y,x]\n",
    "        b=int(b)\n",
    "        g=int(g)\n",
    "        r=int(r)\n",
    "        ##Calculate the rgb values of the pixel when double click"
   ]
  },
  {
   "cell_type": "code",
   "execution_count": 7,
   "metadata": {},
   "outputs": [],
   "source": [
    "#Set a callback function which will be called when a mouse even happens\n",
    "cv2.setMouseCallback('img',draw_function)"
   ]
  },
  {
   "cell_type": "code",
   "execution_count": 8,
   "metadata": {},
   "outputs": [],
   "source": [
    "#Get color name\n",
    "def getColorName(R,G,B):\n",
    "##Return the color name from RGB values\n",
    "    min=10000\n",
    "    for i in range(len(csv)):\n",
    "        d=abs(R-int(csv.loc[i,'R']))+abs(G-int(csv.loc[i,'G']))+abs(B-int(csv.loc[i,'B']))\n",
    "        ##abs(Red-ithRedColor)+(Green-ithGreenColor)+(Blue-ithBlueColor)\n",
    "        if(d<=min):\n",
    "            min=d\n",
    "            cname=csv.loc[i,'color_name']\n",
    "    return cname"
   ]
  },
  {
   "cell_type": "code",
   "execution_count": 9,
   "metadata": {},
   "outputs": [],
   "source": [
    "#Display image on the window\n",
    "while(1):\n",
    "\n",
    "    cv2.imshow(\"image\",img)\n",
    "    ##Draw the image on the window with cv2.imshow()\n",
    "    if (clicked):\n",
    "     \n",
    "        cv2.rectangle(img,(20,20), (750,60), (b,g,r), -1)\n",
    "        ##When user double clicks the window, it draws a rectangle\n",
    "        ##cv2.rectangle(image, startpoint, endpoint, color, thickness)-1 fills entire rectangle\n",
    "\n",
    "        \n",
    "        text = getColorName(r,g,b) + ' R='+ str(r) +  ' G='+ str(g) +  ' B='+ str(b)\n",
    "        ####When user double clicks the window, it gets the color name to draw text on the window\n",
    "        ##Creating text string to display( Color name and RGB values )\n",
    "        \n",
    "       \n",
    "        cv2.putText(img, text,(50,50),2,0.8,(255,255,255),2,cv2.LINE_AA)\n",
    "        ##cv2.putText(img,text,start,font(0-7),fontScale,color,thickness,lineType )\n",
    "\n",
    "        \n",
    "        if(r+g+b>=600):\n",
    "            cv2.putText(img, text,(50,50),2,0.8,(0,0,0),2,cv2.LINE_AA)\n",
    "            ##For very light colours we will display text in black colour\n",
    "            \n",
    "        clicked=False\n",
    "\n",
    "        \n",
    "    if cv2.waitKey(20) & 0xFF ==27:\n",
    "        break\n",
    "        ##Break the loop when user hits 'esc' key\n",
    "    \n",
    "cv2.destroyAllWindows()"
   ]
  }
 ],
 "metadata": {
  "language_info": {
   "codemirror_mode": {
    "name": "ipython",
    "version": 3
   },
   "file_extension": ".py",
   "mimetype": "text/x-python",
   "name": "python",
   "nbconvert_exporter": "python",
   "pygments_lexer": "ipython3",
   "version": "3.8.2-final"
  },
  "orig_nbformat": 2,
  "kernelspec": {
   "name": "python38264bita10eae50d1614cb8abb0d2ecc698996f",
   "display_name": "Python 3.8.2 64-bit"
  }
 },
 "nbformat": 4,
 "nbformat_minor": 2
}